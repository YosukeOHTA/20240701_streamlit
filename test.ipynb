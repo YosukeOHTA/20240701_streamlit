{
 "cells": [
  {
   "cell_type": "code",
   "execution_count": 3,
   "metadata": {},
   "outputs": [
    {
     "data": {
      "text/html": [
       "<div>\n",
       "<style scoped>\n",
       "    .dataframe tbody tr th:only-of-type {\n",
       "        vertical-align: middle;\n",
       "    }\n",
       "\n",
       "    .dataframe tbody tr th {\n",
       "        vertical-align: top;\n",
       "    }\n",
       "\n",
       "    .dataframe thead th {\n",
       "        text-align: right;\n",
       "    }\n",
       "</style>\n",
       "<table border=\"1\" class=\"dataframe\">\n",
       "  <thead>\n",
       "    <tr style=\"text-align: right;\">\n",
       "      <th></th>\n",
       "      <th>Unnamed: 1</th>\n",
       "      <th>品質情報</th>\n",
       "      <th>均質番号</th>\n",
       "      <th>Unnamed: 4</th>\n",
       "      <th>品質情報.1</th>\n",
       "      <th>均質番号.1</th>\n",
       "      <th>Unnamed: 7</th>\n",
       "      <th>品質情報.2</th>\n",
       "      <th>均質番号.2</th>\n",
       "    </tr>\n",
       "  </thead>\n",
       "  <tbody>\n",
       "    <tr>\n",
       "      <th>2023/6/28</th>\n",
       "      <td>27.3</td>\n",
       "      <td>8</td>\n",
       "      <td>1</td>\n",
       "      <td>31.9</td>\n",
       "      <td>8</td>\n",
       "      <td>1</td>\n",
       "      <td>23.8</td>\n",
       "      <td>8</td>\n",
       "      <td>1</td>\n",
       "    </tr>\n",
       "    <tr>\n",
       "      <th>2023/6/29</th>\n",
       "      <td>27.5</td>\n",
       "      <td>8</td>\n",
       "      <td>1</td>\n",
       "      <td>31.9</td>\n",
       "      <td>8</td>\n",
       "      <td>1</td>\n",
       "      <td>23.9</td>\n",
       "      <td>8</td>\n",
       "      <td>1</td>\n",
       "    </tr>\n",
       "  </tbody>\n",
       "</table>\n",
       "</div>"
      ],
      "text/plain": [
       "           Unnamed: 1  品質情報  均質番号  Unnamed: 4  品質情報.1  均質番号.1  Unnamed: 7  \\\n",
       "2023/6/28        27.3     8     1        31.9       8       1        23.8   \n",
       "2023/6/29        27.5     8     1        31.9       8       1        23.9   \n",
       "\n",
       "           品質情報.2  均質番号.2  \n",
       "2023/6/28       8       1  \n",
       "2023/6/29       8       1  "
      ]
     },
     "execution_count": 3,
     "metadata": {},
     "output_type": "execute_result"
    }
   ],
   "source": [
    "import pandas as pd\n",
    "df1 = pd.read_csv('./data/data.csv', encoding=\"shift-jis\", skiprows=5, index_col='Unnamed: 0')\n",
    "df1.head(2)"
   ]
  },
  {
   "cell_type": "code",
   "execution_count": 9,
   "metadata": {},
   "outputs": [
    {
     "name": "stdout",
     "output_type": "stream",
     "text": [
      "25\n",
      "25\n",
      "25\n",
      "25\n",
      "25\n",
      "25\n",
      "25\n"
     ]
    }
   ],
   "source": [
    "for i in df1.index:\n",
    "    if df1.loc[i, 'Unnamed: 1']:\n",
    "        print(df1.loc[i, 'Unnamed: 1'])"
   ]
  },
  {
   "cell_type": "code",
   "execution_count": 19,
   "metadata": {},
   "outputs": [
    {
     "data": {
      "text/plain": [
       "'27'"
      ]
     },
     "execution_count": 19,
     "metadata": {},
     "output_type": "execute_result"
    }
   ],
   "source": [
    "df1.loc['2023/6/28', 'Unnamed: 1'].astype('str')"
   ]
  },
  {
   "cell_type": "code",
   "execution_count": 11,
   "metadata": {},
   "outputs": [
    {
     "ename": "SyntaxError",
     "evalue": "did you forget parentheses around the comprehension target? (3927504882.py, line 1)",
     "output_type": "error",
     "traceback": [
      "\u001b[1;36m  Cell \u001b[1;32mIn[11], line 1\u001b[1;36m\u001b[0m\n\u001b[1;33m    df1['Unnamed: 1'] = df1.loc[i, 'Unnamed: 1' for i in df1.index]\u001b[0m\n\u001b[1;37m                                ^\u001b[0m\n\u001b[1;31mSyntaxError\u001b[0m\u001b[1;31m:\u001b[0m did you forget parentheses around the comprehension target?\n"
     ]
    }
   ],
   "source": [
    "df1['Unnamed: 1'] = df1.loc[i, 'Unnamed: 1' for i in df1.index]"
   ]
  }
 ],
 "metadata": {
  "kernelspec": {
   "display_name": "Python 3",
   "language": "python",
   "name": "python3"
  },
  "language_info": {
   "codemirror_mode": {
    "name": "ipython",
    "version": 3
   },
   "file_extension": ".py",
   "mimetype": "text/x-python",
   "name": "python",
   "nbconvert_exporter": "python",
   "pygments_lexer": "ipython3",
   "version": "3.12.1"
  }
 },
 "nbformat": 4,
 "nbformat_minor": 2
}
